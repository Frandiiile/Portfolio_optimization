{
 "cells": [
  {
   "cell_type": "code",
   "execution_count": 3,
   "metadata": {},
   "outputs": [],
   "source": [
    "#Imports\n",
    "from pandas_datareader import  data as web\n",
    "import pandas as pd\n",
    "import numpy as np \n",
    "from datetime import datetime\n",
    "import matplotlib.pyplot as plt \n",
    "plt.style.use('dark_background')\n"
   ]
  },
  {
   "cell_type": "code",
   "execution_count": 4,
   "metadata": {},
   "outputs": [],
   "source": [
    "#Fictional portfolio to optimize \n",
    "#FAANG: Facebook Amazon Apple Netflix Google\n",
    "#Creation of acronyms\n",
    "stocks=['FB','AMZN','AAPL','NFLX','GOOG']"
   ]
  },
  {
   "cell_type": "code",
   "execution_count": 5,
   "metadata": {},
   "outputs": [],
   "source": [
    "#Weights for our portfolio's stocks. \n",
    "weights=np.array([0.2,0.2,0.2,0.2,0.2])\n"
   ]
  },
  {
   "cell_type": "code",
   "execution_count": 6,
   "metadata": {},
   "outputs": [
    {
     "data": {
      "text/plain": [
       "'2022-06-10'"
      ]
     },
     "execution_count": 6,
     "metadata": {},
     "output_type": "execute_result"
    }
   ],
   "source": [
    "#Startdates, where Facebook started.\n",
    "stocksStartdate='2013-01-01'\n",
    "#Ending date\n",
    "today=datetime.today().strftime('%Y-%m-%d')\n",
    "today"
   ]
  },
  {
   "cell_type": "code",
   "execution_count": 7,
   "metadata": {},
   "outputs": [],
   "source": [
    "#Dataframe with close price of stocks \n",
    "df= pd.DataFrame()\n",
    "#storing the data in this df\n",
    "for stock in stocks:\n",
    "    df[stock]=web.DataReader(stock,data_source='yahoo',start=stocksStartdate,end=today)['Adj Close']\n"
   ]
  },
  {
   "cell_type": "code",
   "execution_count": 8,
   "metadata": {},
   "outputs": [
    {
     "data": {
      "text/html": [
       "<div>\n",
       "<style scoped>\n",
       "    .dataframe tbody tr th:only-of-type {\n",
       "        vertical-align: middle;\n",
       "    }\n",
       "\n",
       "    .dataframe tbody tr th {\n",
       "        vertical-align: top;\n",
       "    }\n",
       "\n",
       "    .dataframe thead th {\n",
       "        text-align: right;\n",
       "    }\n",
       "</style>\n",
       "<table border=\"1\" class=\"dataframe\">\n",
       "  <thead>\n",
       "    <tr style=\"text-align: right;\">\n",
       "      <th></th>\n",
       "      <th>FB</th>\n",
       "      <th>AMZN</th>\n",
       "      <th>AAPL</th>\n",
       "      <th>NFLX</th>\n",
       "      <th>GOOG</th>\n",
       "    </tr>\n",
       "    <tr>\n",
       "      <th>Date</th>\n",
       "      <th></th>\n",
       "      <th></th>\n",
       "      <th></th>\n",
       "      <th></th>\n",
       "      <th></th>\n",
       "    </tr>\n",
       "  </thead>\n",
       "  <tbody>\n",
       "    <tr>\n",
       "      <th>2021-06-10</th>\n",
       "      <td>332.459991</td>\n",
       "      <td>167.482498</td>\n",
       "      <td>125.393593</td>\n",
       "      <td>487.269989</td>\n",
       "      <td>2521.600098</td>\n",
       "    </tr>\n",
       "    <tr>\n",
       "      <th>2021-06-11</th>\n",
       "      <td>331.260010</td>\n",
       "      <td>167.341507</td>\n",
       "      <td>126.626556</td>\n",
       "      <td>488.769989</td>\n",
       "      <td>2513.929932</td>\n",
       "    </tr>\n",
       "    <tr>\n",
       "      <th>2021-06-14</th>\n",
       "      <td>336.769989</td>\n",
       "      <td>169.193497</td>\n",
       "      <td>129.738770</td>\n",
       "      <td>499.890015</td>\n",
       "      <td>2527.040039</td>\n",
       "    </tr>\n",
       "    <tr>\n",
       "      <th>2021-06-15</th>\n",
       "      <td>336.750000</td>\n",
       "      <td>169.156494</td>\n",
       "      <td>128.903549</td>\n",
       "      <td>491.899994</td>\n",
       "      <td>2520.659912</td>\n",
       "    </tr>\n",
       "    <tr>\n",
       "      <th>2021-06-16</th>\n",
       "      <td>331.079987</td>\n",
       "      <td>170.762497</td>\n",
       "      <td>129.410645</td>\n",
       "      <td>492.410004</td>\n",
       "      <td>2513.929932</td>\n",
       "    </tr>\n",
       "    <tr>\n",
       "      <th>...</th>\n",
       "      <td>...</td>\n",
       "      <td>...</td>\n",
       "      <td>...</td>\n",
       "      <td>...</td>\n",
       "      <td>...</td>\n",
       "    </tr>\n",
       "    <tr>\n",
       "      <th>2022-06-06</th>\n",
       "      <td>194.250000</td>\n",
       "      <td>124.790001</td>\n",
       "      <td>146.139999</td>\n",
       "      <td>197.139999</td>\n",
       "      <td>2340.209961</td>\n",
       "    </tr>\n",
       "    <tr>\n",
       "      <th>2022-06-07</th>\n",
       "      <td>195.649994</td>\n",
       "      <td>123.000000</td>\n",
       "      <td>148.710007</td>\n",
       "      <td>198.610001</td>\n",
       "      <td>2344.590088</td>\n",
       "    </tr>\n",
       "    <tr>\n",
       "      <th>2022-06-08</th>\n",
       "      <td>196.639999</td>\n",
       "      <td>121.180000</td>\n",
       "      <td>147.960007</td>\n",
       "      <td>202.830002</td>\n",
       "      <td>2344.760010</td>\n",
       "    </tr>\n",
       "    <tr>\n",
       "      <th>2022-06-09</th>\n",
       "      <td>184.000000</td>\n",
       "      <td>116.150002</td>\n",
       "      <td>142.639999</td>\n",
       "      <td>192.770004</td>\n",
       "      <td>2298.360107</td>\n",
       "    </tr>\n",
       "    <tr>\n",
       "      <th>2022-06-10</th>\n",
       "      <td>175.786102</td>\n",
       "      <td>109.440002</td>\n",
       "      <td>137.679993</td>\n",
       "      <td>183.750000</td>\n",
       "      <td>2224.689941</td>\n",
       "    </tr>\n",
       "  </tbody>\n",
       "</table>\n",
       "<p>254 rows × 5 columns</p>\n",
       "</div>"
      ],
      "text/plain": [
       "                    FB        AMZN        AAPL        NFLX         GOOG\n",
       "Date                                                                   \n",
       "2021-06-10  332.459991  167.482498  125.393593  487.269989  2521.600098\n",
       "2021-06-11  331.260010  167.341507  126.626556  488.769989  2513.929932\n",
       "2021-06-14  336.769989  169.193497  129.738770  499.890015  2527.040039\n",
       "2021-06-15  336.750000  169.156494  128.903549  491.899994  2520.659912\n",
       "2021-06-16  331.079987  170.762497  129.410645  492.410004  2513.929932\n",
       "...                ...         ...         ...         ...          ...\n",
       "2022-06-06  194.250000  124.790001  146.139999  197.139999  2340.209961\n",
       "2022-06-07  195.649994  123.000000  148.710007  198.610001  2344.590088\n",
       "2022-06-08  196.639999  121.180000  147.960007  202.830002  2344.760010\n",
       "2022-06-09  184.000000  116.150002  142.639999  192.770004  2298.360107\n",
       "2022-06-10  175.786102  109.440002  137.679993  183.750000  2224.689941\n",
       "\n",
       "[254 rows x 5 columns]"
      ]
     },
     "execution_count": 8,
     "metadata": {},
     "output_type": "execute_result"
    }
   ],
   "source": [
    "#Seeing the df\n",
    "df"
   ]
  },
  {
   "cell_type": "code",
   "execution_count": 9,
   "metadata": {},
   "outputs": [
    {
     "data": {
      "image/png": "[encoded data removed]",
      "text/plain": [
       "<Figure size 432x288 with 1 Axes>"
      ]
     },
     "metadata": {},
     "output_type": "display_data"
    }
   ],
   "source": [
    "#Visually see stock/Portfolio\n",
    "title='Portfolio Adj. Close Price History'\n",
    "\n",
    "#Stocks\n",
    "my_stocks=df\n",
    "\n",
    "#Plot\n",
    "for c in my_stocks.columns.values:\n",
    "    plt.plot(my_stocks[c], label=c)\n",
    "\n",
    "plt.title(title)\n",
    "plt.xlabel('Date')\n",
    "plt.ylabel('Adj Price in Usd')\n",
    "plt.legend(my_stocks.columns.values,loc='upper left')\n",
    "plt.show()\n"
   ]
  },
  {
   "cell_type": "code",
   "execution_count": 10,
   "metadata": {},
   "outputs": [
    {
     "data": {
      "text/html": [
       "<div>\n",
       "<style scoped>\n",
       "    .dataframe tbody tr th:only-of-type {\n",
       "        vertical-align: middle;\n",
       "    }\n",
       "\n",
       "    .dataframe tbody tr th {\n",
       "        vertical-align: top;\n",
       "    }\n",
       "\n",
       "    .dataframe thead th {\n",
       "        text-align: right;\n",
       "    }\n",
       "</style>\n",
       "<table border=\"1\" class=\"dataframe\">\n",
       "  <thead>\n",
       "    <tr style=\"text-align: right;\">\n",
       "      <th></th>\n",
       "      <th>FB</th>\n",
       "      <th>AMZN</th>\n",
       "      <th>AAPL</th>\n",
       "      <th>NFLX</th>\n",
       "      <th>GOOG</th>\n",
       "    </tr>\n",
       "    <tr>\n",
       "      <th>Date</th>\n",
       "      <th></th>\n",
       "      <th></th>\n",
       "      <th></th>\n",
       "      <th></th>\n",
       "      <th></th>\n",
       "    </tr>\n",
       "  </thead>\n",
       "  <tbody>\n",
       "    <tr>\n",
       "      <th>2021-06-10</th>\n",
       "      <td>NaN</td>\n",
       "      <td>NaN</td>\n",
       "      <td>NaN</td>\n",
       "      <td>NaN</td>\n",
       "      <td>NaN</td>\n",
       "    </tr>\n",
       "    <tr>\n",
       "      <th>2021-06-11</th>\n",
       "      <td>-0.003609</td>\n",
       "      <td>-0.000842</td>\n",
       "      <td>0.009833</td>\n",
       "      <td>0.003078</td>\n",
       "      <td>-0.003042</td>\n",
       "    </tr>\n",
       "    <tr>\n",
       "      <th>2021-06-14</th>\n",
       "      <td>0.016633</td>\n",
       "      <td>0.011067</td>\n",
       "      <td>0.024578</td>\n",
       "      <td>0.022751</td>\n",
       "      <td>0.005215</td>\n",
       "    </tr>\n",
       "    <tr>\n",
       "      <th>2021-06-15</th>\n",
       "      <td>-0.000059</td>\n",
       "      <td>-0.000219</td>\n",
       "      <td>-0.006438</td>\n",
       "      <td>-0.015984</td>\n",
       "      <td>-0.002525</td>\n",
       "    </tr>\n",
       "    <tr>\n",
       "      <th>2021-06-16</th>\n",
       "      <td>-0.016837</td>\n",
       "      <td>0.009494</td>\n",
       "      <td>0.003934</td>\n",
       "      <td>0.001037</td>\n",
       "      <td>-0.002670</td>\n",
       "    </tr>\n",
       "    <tr>\n",
       "      <th>...</th>\n",
       "      <td>...</td>\n",
       "      <td>...</td>\n",
       "      <td>...</td>\n",
       "      <td>...</td>\n",
       "      <td>...</td>\n",
       "    </tr>\n",
       "    <tr>\n",
       "      <th>2022-06-06</th>\n",
       "      <td>0.018188</td>\n",
       "      <td>0.019943</td>\n",
       "      <td>0.005228</td>\n",
       "      <td>-0.009247</td>\n",
       "      <td>0.021355</td>\n",
       "    </tr>\n",
       "    <tr>\n",
       "      <th>2022-06-07</th>\n",
       "      <td>0.007207</td>\n",
       "      <td>-0.014344</td>\n",
       "      <td>0.017586</td>\n",
       "      <td>0.007457</td>\n",
       "      <td>0.001872</td>\n",
       "    </tr>\n",
       "    <tr>\n",
       "      <th>2022-06-08</th>\n",
       "      <td>0.005060</td>\n",
       "      <td>-0.014797</td>\n",
       "      <td>-0.005043</td>\n",
       "      <td>0.021248</td>\n",
       "      <td>0.000072</td>\n",
       "    </tr>\n",
       "    <tr>\n",
       "      <th>2022-06-09</th>\n",
       "      <td>-0.064280</td>\n",
       "      <td>-0.041508</td>\n",
       "      <td>-0.035956</td>\n",
       "      <td>-0.049598</td>\n",
       "      <td>-0.019789</td>\n",
       "    </tr>\n",
       "    <tr>\n",
       "      <th>2022-06-10</th>\n",
       "      <td>-0.044641</td>\n",
       "      <td>-0.057770</td>\n",
       "      <td>-0.034773</td>\n",
       "      <td>-0.046792</td>\n",
       "      <td>-0.032053</td>\n",
       "    </tr>\n",
       "  </tbody>\n",
       "</table>\n",
       "<p>254 rows × 5 columns</p>\n",
       "</div>"
      ],
      "text/plain": [
       "                  FB      AMZN      AAPL      NFLX      GOOG\n",
       "Date                                                        \n",
       "2021-06-10       NaN       NaN       NaN       NaN       NaN\n",
       "2021-06-11 -0.003609 -0.000842  0.009833  0.003078 -0.003042\n",
       "2021-06-14  0.016633  0.011067  0.024578  0.022751  0.005215\n",
       "2021-06-15 -0.000059 -0.000219 -0.006438 -0.015984 -0.002525\n",
       "2021-06-16 -0.016837  0.009494  0.003934  0.001037 -0.002670\n",
       "...              ...       ...       ...       ...       ...\n",
       "2022-06-06  0.018188  0.019943  0.005228 -0.009247  0.021355\n",
       "2022-06-07  0.007207 -0.014344  0.017586  0.007457  0.001872\n",
       "2022-06-08  0.005060 -0.014797 -0.005043  0.021248  0.000072\n",
       "2022-06-09 -0.064280 -0.041508 -0.035956 -0.049598 -0.019789\n",
       "2022-06-10 -0.044641 -0.057770 -0.034773 -0.046792 -0.032053\n",
       "\n",
       "[254 rows x 5 columns]"
      ]
     },
     "execution_count": 10,
     "metadata": {},
     "output_type": "execute_result"
    }
   ],
   "source": [
    "#Daily returns\n",
    "returns=df.pct_change()\n",
    "returns"
   ]
  },
  {
   "cell_type": "code",
   "execution_count": 11,
   "metadata": {},
   "outputs": [
    {
     "data": {
      "text/html": [
       "<div>\n",
       "<style scoped>\n",
       "    .dataframe tbody tr th:only-of-type {\n",
       "        vertical-align: middle;\n",
       "    }\n",
       "\n",
       "    .dataframe tbody tr th {\n",
       "        vertical-align: top;\n",
       "    }\n",
       "\n",
       "    .dataframe thead th {\n",
       "        text-align: right;\n",
       "    }\n",
       "</style>\n",
       "<table border=\"1\" class=\"dataframe\">\n",
       "  <thead>\n",
       "    <tr style=\"text-align: right;\">\n",
       "      <th></th>\n",
       "      <th>FB</th>\n",
       "      <th>AMZN</th>\n",
       "      <th>AAPL</th>\n",
       "      <th>NFLX</th>\n",
       "      <th>GOOG</th>\n",
       "    </tr>\n",
       "  </thead>\n",
       "  <tbody>\n",
       "    <tr>\n",
       "      <th>FB</th>\n",
       "      <td>0.247032</td>\n",
       "      <td>0.113034</td>\n",
       "      <td>0.078619</td>\n",
       "      <td>0.156350</td>\n",
       "      <td>0.093892</td>\n",
       "    </tr>\n",
       "    <tr>\n",
       "      <th>AMZN</th>\n",
       "      <td>0.113034</td>\n",
       "      <td>0.157568</td>\n",
       "      <td>0.071563</td>\n",
       "      <td>0.116475</td>\n",
       "      <td>0.074932</td>\n",
       "    </tr>\n",
       "    <tr>\n",
       "      <th>AAPL</th>\n",
       "      <td>0.078619</td>\n",
       "      <td>0.071563</td>\n",
       "      <td>0.083041</td>\n",
       "      <td>0.067212</td>\n",
       "      <td>0.059364</td>\n",
       "    </tr>\n",
       "    <tr>\n",
       "      <th>NFLX</th>\n",
       "      <td>0.156350</td>\n",
       "      <td>0.116475</td>\n",
       "      <td>0.067212</td>\n",
       "      <td>0.336805</td>\n",
       "      <td>0.074714</td>\n",
       "    </tr>\n",
       "    <tr>\n",
       "      <th>GOOG</th>\n",
       "      <td>0.093892</td>\n",
       "      <td>0.074932</td>\n",
       "      <td>0.059364</td>\n",
       "      <td>0.074714</td>\n",
       "      <td>0.082922</td>\n",
       "    </tr>\n",
       "  </tbody>\n",
       "</table>\n",
       "</div>"
      ],
      "text/plain": [
       "            FB      AMZN      AAPL      NFLX      GOOG\n",
       "FB    0.247032  0.113034  0.078619  0.156350  0.093892\n",
       "AMZN  0.113034  0.157568  0.071563  0.116475  0.074932\n",
       "AAPL  0.078619  0.071563  0.083041  0.067212  0.059364\n",
       "NFLX  0.156350  0.116475  0.067212  0.336805  0.074714\n",
       "GOOG  0.093892  0.074932  0.059364  0.074714  0.082922"
      ]
     },
     "execution_count": 11,
     "metadata": {},
     "output_type": "execute_result"
    }
   ],
   "source": [
    "#annualized covariance matrix\n",
    "cov_mat_ann=returns.cov()*252 \n",
    "cov_mat_ann"
   ]
  },
  {
   "cell_type": "code",
   "execution_count": 12,
   "metadata": {},
   "outputs": [
    {
     "data": {
      "text/plain": [
       "0.10878720625993492"
      ]
     },
     "execution_count": 12,
     "metadata": {},
     "output_type": "execute_result"
    }
   ],
   "source": [
    "#The portfolio Variance\n",
    "port_var=np.dot(weights.T,np.dot(cov_mat_ann,weights))\n",
    "port_var"
   ]
  },
  {
   "cell_type": "code",
   "execution_count": 13,
   "metadata": {},
   "outputs": [
    {
     "data": {
      "text/plain": [
       "0.3298290561183701"
      ]
     },
     "execution_count": 13,
     "metadata": {},
     "output_type": "execute_result"
    }
   ],
   "source": [
    "#the portfolio volatility  (Standard devition)\n",
    "port_vol=np.sqrt(port_var)\n",
    "port_vol"
   ]
  },
  {
   "cell_type": "code",
   "execution_count": 14,
   "metadata": {},
   "outputs": [
    {
     "data": {
      "text/plain": [
       "-0.3153047098370763"
      ]
     },
     "execution_count": 14,
     "metadata": {},
     "output_type": "execute_result"
    }
   ],
   "source": [
    "#Annual Portfolio return\n",
    "portfolio_return_annual=np.sum(returns.mean()*weights)*252\n",
    "portfolio_return_annual"
   ]
  },
  {
   "cell_type": "code",
   "execution_count": 15,
   "metadata": {},
   "outputs": [
    {
     "name": "stdout",
     "output_type": "stream",
     "text": [
      "Expected annual return: -32.0%\n",
      "Annual volatility / risk :33.0%\n",
      "Annual Variance: 11.0%\n"
     ]
    }
   ],
   "source": [
    "# Expected annual returns, volatility(risk), and variance\n",
    "percent_var=str(round(port_var,2)*100) +'%'\n",
    "percent_vol=str(round(port_vol,2)*100)+'%'\n",
    "percent_ret=str(round(portfolio_return_annual,2)*100)+'%'\n",
    "print('Expected annual return: '+percent_ret)\n",
    "print('Annual volatility / risk :' +percent_vol)\n",
    "print('Annual Variance: '+percent_var)"
   ]
  },
  {
   "cell_type": "code",
   "execution_count": 16,
   "metadata": {},
   "outputs": [],
   "source": [
    "from pypfopt.efficient_frontier import EfficientFrontier\n",
    "from pypfopt import risk_models\n",
    "from pypfopt import expected_returns"
   ]
  },
  {
   "cell_type": "code",
   "execution_count": 18,
   "metadata": {},
   "outputs": [
    {
     "name": "stdout",
     "output_type": "stream",
     "text": [
      "OrderedDict([('FB', 0.0), ('AMZN', 0.0), ('AAPL', 1.0), ('NFLX', 0.0), ('GOOG', 0.0)])\n",
      "Expected annual return: 9.8%\n",
      "Annual volatility: 28.8%\n",
      "Sharpe Ratio: 0.27\n"
     ]
    },
    {
     "data": {
      "text/plain": [
       "(0.09757708560072476, 0.28816777268707056, 0.26920805500678896)"
      ]
     },
     "execution_count": 18,
     "metadata": {},
     "output_type": "execute_result"
    }
   ],
   "source": [
    "#Portfolio optmization\n",
    "#Expected returns and annualized covariance matrix\n",
    "m=expected_returns.mean_historical_return(df)\n",
    "s=risk_models.sample_cov(df)\n",
    "\n",
    "#optimize for max sharpe ratio\n",
    "ef=EfficientFrontier(m,s)\n",
    "weights = ef.max_sharpe()\n",
    "cleaned_weights= ef.clean_weights()\n",
    "print(cleaned_weights)\n",
    "ef.portfolio_performance(verbose=True)"
   ]
  },
  {
   "cell_type": "code",
   "execution_count": 19,
   "metadata": {},
   "outputs": [
    {
     "name": "stdout",
     "output_type": "stream",
     "text": [
      "Discrete allocation:  {'AAPL': 7}\n",
      "Remaining: $36.24\n"
     ]
    }
   ],
   "source": [
    "#Discrete allocation for each share per stock\n",
    "from pypfopt.discrete_allocation import DiscreteAllocation,get_latest_prices\n",
    "latest_prices=get_latest_prices(df)\n",
    "weights=cleaned_weights\n",
    "da=DiscreteAllocation(weights,latest_prices,total_portfolio_value= 1000)\n",
    "allocation, leftover=da.lp_portfolio()\n",
    "print('Discrete allocation: ', allocation)\n",
    "print('Remaining: ${:.2f}' .format(leftover))"
   ]
  }
 ],
 "metadata": {
  "interpreter": {
   "hash": "d83f865c34968bcc73a3063610967929b3e474b82ee9ba8f90fa9b1e1869889c"
  },
  "kernelspec": {
   "display_name": "Python 3.10.5 64-bit",
   "language": "python",
   "name": "python3"
  },
  "language_info": {
   "codemirror_mode": {
    "name": "ipython",
    "version": 3
   },
   "file_extension": ".py",
   "mimetype": "text/x-python",
   "name": "python",
   "nbconvert_exporter": "python",
   "pygments_lexer": "ipython3",
   "version": "3.10.5"
  },
  "orig_nbformat": 4
 },
 "nbformat": 4,
 "nbformat_minor": 2
}
